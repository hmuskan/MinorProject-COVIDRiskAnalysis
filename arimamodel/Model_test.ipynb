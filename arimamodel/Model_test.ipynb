{
 "cells": [
  {
   "cell_type": "code",
   "execution_count": 55,
   "metadata": {},
   "outputs": [],
   "source": [
    "import numpy as np\n",
    "import pandas as pd\n",
    "import matplotlib.pyplot as plt\n",
    "%matplotlib inline\n",
    "import itertools\n",
    "import seaborn as sns\n",
    "\n",
    "import plotly.express as px\n",
    "import statsmodels.api as sm\n",
    "from statsmodels.tsa.stattools import adfuller, acf, pacf,arma_order_select_ic\n",
    "from statsmodels.graphics.tsaplots import plot_acf, plot_pacf\n",
    "from statsmodels.tsa.arima_model import ARIMA\n",
    "import joblib\n",
    "import warnings\n",
    "warnings.simplefilter('ignore')\n",
    "import os\n",
    "def rollCollective(district,case='Confirmed'):\n",
    "    ts=df.loc[(df['District']==district)]  \n",
    "    ts=ts[['Date',case]]\n",
    "    ts=ts.set_index('Date')\n",
    "    ts.astype('int64')\n",
    "    a=len(ts.loc[(ts['Confirmed']>=10)])\n",
    "    ts=ts[-a:]\n",
    "    return (ts.rolling(window=4,center=False).mean().dropna())\n",
    "\n",
    "\n",
    "def rollPlotCollective(district, case='Confirmed'):\n",
    "    ts=df.loc[(df['District']==district)]  \n",
    "    ts=ts[['Date',case]]\n",
    "    ts=ts.set_index('Date')\n",
    "    ts.astype('int64')\n",
    "    a=len(ts.loc[(ts['Confirmed']>=10)])\n",
    "    ts=ts[-a:]\n",
    "    plt.figure(figsize=(16,6))\n",
    "    plt.plot(ts.rolling(window=7,center=False).mean().dropna(),label='Rolling Mean')\n",
    "    plt.plot(ts[case])\n",
    "    plt.plot(ts.rolling(window=7,center=False).std(),label='Rolling std')\n",
    "    plt.legend()\n",
    "    plt.title('Cases distribution in %s with rolling mean and standard' %district)\n",
    "    plt.xticks([])\n",
    "def stationarity(ts):\n",
    "    print('Results of Dickey-Fuller Test:')\n",
    "    test = adfuller(ts, autolag='AIC')\n",
    "    results = pd.Series(test[0:4], index=['Test Statistic','p-value','#Lags Used','Number of Observations Used'])\n",
    "    for i,val in test[4].items():\n",
    "        results['Critical Value (%s)'%i] = val\n",
    "    print (results)\n",
    "def corr(ts):\n",
    "    plot_acf(ts,lags=12,title=\"ACF\")\n",
    "    plot_pacf(ts,lags=12,title=\"PACF\")\n",
    "def mape(y2, y_pred): \n",
    "    y2, y_pred = np.array(y2), np.array(y_pred)\n",
    "    return np.mean(np.abs((y2 - y_pred) / y2)) * 100\n",
    "def plotResults(pred,testtemp):\n",
    "    import matplotlib.pyplot as plt\n",
    "    %matplotlib inline\n",
    "    plt.figure(figsize=(16,6))\n",
    "    figure,ax=plt.subplots()\n",
    "    plt.plot(pred,c='green', label= 'predictions')\n",
    "    plt.plot(testtemp, c='red',label='real values')\n",
    "    plt.legend()\n",
    "    plt.title('True vs predicted values')"
   ]
  },
  {
   "cell_type": "code",
   "execution_count": 56,
   "metadata": {},
   "outputs": [],
   "source": [
    "list = ['Date', 'State', 'District', 'Confirmed']\n",
    "df=pd.read_csv('output.csv',usecols=list)"
   ]
  },
  {
   "cell_type": "code",
   "execution_count": 57,
   "metadata": {},
   "outputs": [],
   "source": [
    "df['Date']=pd.to_datetime(df['Date'])"
   ]
  },
  {
   "cell_type": "code",
   "execution_count": 58,
   "metadata": {},
   "outputs": [],
   "source": [
    "state_dist=set(zip(df['State'],df['District']))\n"
   ]
  },
  {
   "cell_type": "code",
   "execution_count": null,
   "metadata": {},
   "outputs": [],
   "source": [
    "print('Enter state and district')\n",
    "st=input('State')\n",
    "dis=input('District')\n",
    "if (st,dis) in state_dist:\n",
    "    dftemp=df[df['District']==dis]\n",
    "    test=dftemp[120:]\n",
    "    test = test.set_index(['Date'])\n",
    "    testtemp=test['Confirmed'].values\n",
    "\n",
    "    modelname=\"arimamodel_for_state_\"+st+\"_district_\"+dis\n",
    "    model=joblib.load(modelname).fit()\n",
    "    print('Arima summary')\n",
    "    print(model.summary())\n",
    "    print('Plot predict')\n",
    "    model.plot_predict(start=120, end=120+len(test))\n",
    "    pred=model.forecast(steps=len(test))[0]\n",
    "    print('true vs predicted values')\n",
    "    plotResults(pred,testtemp)\n",
    "    test['Predicted']=pred[:len(test)]\n",
    "    print(test)\n",
    "    print('MAPE error')\n",
    "    \n",
    "    print(mape(testtemp,pred[:len(test)]))\n"
   ]
  },
  {
   "cell_type": "code",
   "execution_count": null,
   "metadata": {},
   "outputs": [],
   "source": []
  },
  {
   "cell_type": "code",
   "execution_count": null,
   "metadata": {},
   "outputs": [],
   "source": []
  },
  {
   "cell_type": "code",
   "execution_count": null,
   "metadata": {},
   "outputs": [],
   "source": []
  },
  {
   "cell_type": "code",
   "execution_count": null,
   "metadata": {},
   "outputs": [],
   "source": []
  },
  {
   "cell_type": "code",
   "execution_count": null,
   "metadata": {},
   "outputs": [],
   "source": []
  },
  {
   "cell_type": "code",
   "execution_count": null,
   "metadata": {},
   "outputs": [],
   "source": []
  }
 ],
 "metadata": {
  "kernelspec": {
   "display_name": "Python 3",
   "language": "python",
   "name": "python3"
  },
  "language_info": {
   "codemirror_mode": {
    "name": "ipython",
    "version": 3
   },
   "file_extension": ".py",
   "mimetype": "text/x-python",
   "name": "python",
   "nbconvert_exporter": "python",
   "pygments_lexer": "ipython3",
   "version": "3.7.6"
  }
 },
 "nbformat": 4,
 "nbformat_minor": 4
}
